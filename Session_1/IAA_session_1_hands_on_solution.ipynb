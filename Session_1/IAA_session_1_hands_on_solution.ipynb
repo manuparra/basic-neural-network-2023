{
 "cells": [
  {
   "cell_type": "markdown",
   "metadata": {
    "id": "ZDitZsQALa1H"
   },
   "source": [
    "# HANDS-ON PRACTICE: NEURAL NETWORKS FUNDAMENTALS"
   ]
  },
  {
   "cell_type": "markdown",
   "metadata": {
    "id": "Wi84rOu4si0V"
   },
   "source": [
    "SO Basics of Neural Networks 2023 school at the IAA-CSIC. Nov 2023.  \n",
    "Eduardo Sánchez Karhunen  (fesanchez@us.es)  \n",
    "University of Seville. Spain.  Dept. of CS and AI\n"
   ]
  },
  {
   "cell_type": "markdown",
   "metadata": {
    "id": "pi-LyvK2V070"
   },
   "source": [
    "### Introduction"
   ]
  },
  {
   "cell_type": "markdown",
   "metadata": {
    "id": "1EQPOjdLUGZC"
   },
   "source": [
    "In this hands-on practice we are going to tackle an image classification problem, in concrete the Galaxy10 dataset. For educational purposes, we will design a MLP (Multilayer Perceptron) form scratch.\n",
    "\n",
    "As you probably know, the Galaxy10 SDSS contains 21.785 galaxy colored images (69x69 pixels) separated in 10 classes. Galaxy10 SDSS images come from Sloan Digital Sky Survey and labels come from Galaxy Zoo.\n",
    "\n",
    "Galaxy10 dataset (21785 images)  \n",
    "├── Class 0 (3461 images): Disk, Face-on, No Spiral  \n",
    "├── Class 1 (6997 images): Smooth, Completely round  \n",
    "├── Class 2 (6292 images): Smooth, in-between round  \n",
    "├── Class 3 (394 images): Smooth, Cigar shaped  \n",
    "├── Class 4 (1534 images): Disk, Edge-on, Rounded Bulge  \n",
    "├── Class 5 (17 images): Disk, Edge-on, Boxy Bulge  \n",
    "├── Class 6 (589 images): Disk, Edge-on, No Bulge  \n",
    "├── Class 7 (1121 images): Disk, Face-on, Tight Spiral  \n",
    "├── Class 8 (906 images): Disk, Face-on, Medium Spiral  \n",
    "└── Class 9 (519 images): Disk, Face-on, Loose Spiral  \n",
    "\n",
    "These classes are mutually exclusive, Galaxy10 is meant to be an alternative to MNIST or Cifar10 as a deep learning toy dataset for astronomers. Thus astroNN.models.Cifar10_CNN is used with Cifar10 as a reference.\n",
    "\n",
    "The original images are 424x424, but were cropped to 207x207 centered at the images and then downscaled 3 times via bilinear interpolation to 69x69 in order to make them manageable on most computer and graphics card memory.\n",
    "\n",
    "There is no guarantee on the accuracy of the labels. Moreover, Galaxy10 is not a balanced dataset and it should only be used for educational or experimental purpose.\n"
   ]
  },
  {
   "cell_type": "markdown",
   "metadata": {
    "id": "tLgenWShFb0N"
   },
   "source": [
    "### 1. Loading libraries"
   ]
  },
  {
   "cell_type": "code",
   "execution_count": 1,
   "metadata": {
    "id": "x3FXwlSEgKYa"
   },
   "outputs": [],
   "source": [
    "import numpy as np\n",
    "import h5py\n",
    "import tensorflow as tf\n",
    "import pandas as pd\n",
    "import matplotlib.pyplot as plt"
   ]
  },
  {
   "cell_type": "code",
   "execution_count": 2,
   "metadata": {},
   "outputs": [],
   "source": [
    "# only execute this lines if the following error appears\n",
    "# OMP: Error #15: Initializing libiomp5md.dll, but found libiomp5md.dll already initialized.\n",
    "\n",
    "# import os\n",
    "# os.environ['KMP_DUPLICATE_LIB_OK']='True'"
   ]
  },
  {
   "cell_type": "markdown",
   "metadata": {
    "id": "kVhPclDLgYUu"
   },
   "source": [
    "### Dataset preparation"
   ]
  },
  {
   "cell_type": "markdown",
   "metadata": {
    "id": "iCjX9i4egb-q"
   },
   "source": [
    "First of all, we will download the dataset to our local disk. In this case our dataset can be downloaded from a site in the network. Typically this operation is easily performed using the `wget` command with this syntax:\n",
    "\n",
    "```wget http_site_direction```\n",
    "\n",
    "Note: OS commands can be called from jupyter notebooks inserting a `!` before the command. E. g. if we want to inspect the files in our directory:\n",
    "\n",
    "```!ls -ls```\n",
    "\n",
    "Our dataset can be downloaded from ```http://www.astro.utoronto.ca/~bovy/Galaxy10/Galaxy10.h5```. Depending on your environment you need to run one of the two following commands:"
   ]
  },
  {
   "cell_type": "code",
   "execution_count": 3,
   "metadata": {
    "colab": {
     "base_uri": "https://localhost:8080/"
    },
    "executionInfo": {
     "elapsed": 4802,
     "status": "ok",
     "timestamp": 1699113288867,
     "user": {
      "displayName": "Eduardo Sanchez Karhunen",
      "userId": "07705693878574082533"
     },
     "user_tz": -60
    },
    "id": "A6x2TeCbjZ95",
    "outputId": "d1f0c96d-a216-498c-827f-27d3202a8bd2"
   },
   "outputs": [
    {
     "name": "stderr",
     "output_type": "stream",
     "text": [
      "  % Total    % Received % Xferd  Average Speed   Time    Time     Time  Current\n",
      "                                 Dload  Upload   Total   Spent    Left  Speed\n",
      "\n",
      "  0     0    0     0    0     0      0      0 --:--:-- --:--:-- --:--:--     0\n",
      "  0  200M    0 65422    0     0  80475      0  0:43:32 --:--:--  0:43:32 80469\n",
      "  0  200M    0  207k    0     0   113k      0  0:30:01  0:00:01  0:30:00  113k\n",
      "  0  200M    0  401k    0     0   141k      0  0:24:08  0:00:02  0:24:06  141k\n",
      "  0  200M    0  624k    0     0   163k      0  0:20:53  0:00:03  0:20:50  163k\n",
      "  0  200M    0  853k    0     0   180k      0  0:18:59  0:00:04  0:18:55  180k\n",
      "  0  200M    0 1154k    0     0   197k      0  0:17:19  0:00:05  0:17:14  216k\n",
      "  0  200M    0 1469k    0     0   214k      0  0:15:57  0:00:06  0:15:51  250k\n",
      "  0  200M    0 1838k    0     0   235k      0  0:14:33  0:00:07  0:14:26  288k\n",
      "  1  200M    1 2415k    0     0   274k      0  0:12:27  0:00:08  0:12:19  359k\n",
      "  1  200M    1 3214k    0     0   330k      0  0:10:21  0:00:09  0:10:12  472k\n",
      "  2  200M    2 4234k    0     0   393k      0  0:08:41  0:00:10  0:08:31  626k\n",
      "  2  200M    2 5729k    0     0   488k      0  0:07:00  0:00:11  0:06:49  872k\n",
      "  3  200M    3 7830k    0     0   613k      0  0:05:34  0:00:12  0:05:22 1212k\n",
      "  5  200M    5 10.0M    0     0   750k      0  0:04:33  0:00:13  0:04:20 1591k\n",
      "  6  200M    6 12.8M    0     0   893k      0  0:03:49  0:00:14  0:03:35 1991k\n",
      "  8  200M    8 16.3M    0     0  1065k      0  0:03:12  0:00:15  0:02:57 2517k\n",
      " 10  200M   10 20.3M    0     0  1241k      0  0:02:45  0:00:16  0:02:29 3002k\n",
      " 12  200M   12 24.7M    0     0  1428k      0  0:02:23  0:00:17  0:02:06 3506k\n",
      " 14  200M   14 29.5M    0     0  1612k      0  0:02:07  0:00:18  0:01:49 4000k\n",
      " 18  200M   18 36.2M    0     0  1878k      0  0:01:49  0:00:19  0:01:30 4781k\n",
      " 21  200M   21 43.4M    0     0  2146k      0  0:01:35  0:00:20  0:01:15 5547k\n",
      " 25  200M   25 51.2M    0     0  2414k      0  0:01:25  0:00:21  0:01:04 6366k\n",
      " 30  200M   30 60.8M    0     0  2738k      0  0:01:14  0:00:22  0:00:52 7417k\n",
      " 35  200M   35 71.4M    0     0  3082k      0  0:01:06  0:00:23  0:00:43 8585k\n",
      " 42  200M   42 84.2M    0     0  3487k      0  0:00:58  0:00:24  0:00:34 9839k\n",
      " 49  200M   49 98.8M    0     0  3929k      0  0:00:52  0:00:25  0:00:27 11.0M\n",
      " 58  200M   58  116M    0     0  4453k      0  0:00:46  0:00:26  0:00:20 12.9M\n",
      " 68  200M   68  136M    0     0  5041k      0  0:00:40  0:00:27  0:00:13 15.1M\n",
      " 76  200M   76  153M    0     0  5469k      0  0:00:37  0:00:28  0:00:09 16.3M\n",
      " 84  200M   84  170M    0     0  5861k      0  0:00:35  0:00:29  0:00:06 17.1M\n",
      " 94  200M   94  189M    0     0  6313k      0  0:00:32  0:00:30  0:00:02 18.2M\n",
      "100  200M  100  200M    0     0  6551k      0  0:00:31  0:00:31 --:--:-- 18.3M\n"
     ]
    }
   ],
   "source": [
    "# LINUX\n",
    "# !wget http://www.astro.utoronto.ca/~bovy/Galaxy10/Galaxy10.h5\n",
    "\n",
    "# WINDOWS\n",
    "!curl \"http://www.astro.utoronto.ca/~bovy/Galaxy10/Galaxy10.h5\" --output Galaxy10.h5"
   ]
  },
  {
   "cell_type": "markdown",
   "metadata": {
    "id": "r9HHkcMxjfAN"
   },
   "source": [
    "Now we have a h5 file in our local disk. It must be converted into numpy arrays to feed them to any machine learning model, including neural netowrks.\n",
    "\n",
    "These numpy arrays are obtained reading this h5 file using the command:\n",
    "\n",
    "```hf = h5py.File(file_name, 'r')```\n",
    "\n",
    "This data structure is similar to a Python dictionary with two keys:\n",
    "* ans: containing the labels.\n",
    "* images: with the images.\n",
    "\n",
    "Using the `get` command, this dictionary can be converted into numpy dataarrays.\n",
    "A common use is:\n",
    "\n",
    "```a = hf.get(key)[()]```\n",
    "\n",
    "Create two numpy arrays containing images and labels from the previously downloaded h5 file."
   ]
  },
  {
   "cell_type": "code",
   "execution_count": 4,
   "metadata": {
    "id": "NjrXTGkNgWCt"
   },
   "outputs": [],
   "source": [
    "hf = h5py.File('Galaxy10.h5', 'r')\n",
    "labels, images = hf.get('ans')[()], hf.get('images')[()]"
   ]
  },
  {
   "cell_type": "markdown",
   "metadata": {
    "id": "P8fXWNW0m09i"
   },
   "source": [
    "Check the shape of the dataset: number of images and its shape."
   ]
  },
  {
   "cell_type": "code",
   "execution_count": 5,
   "metadata": {
    "colab": {
     "base_uri": "https://localhost:8080/"
    },
    "executionInfo": {
     "elapsed": 304,
     "status": "ok",
     "timestamp": 1699113317933,
     "user": {
      "displayName": "Eduardo Sanchez Karhunen",
      "userId": "07705693878574082533"
     },
     "user_tz": -60
    },
    "id": "WDKwAL3KmboB",
    "outputId": "6c900425-0419-4857-ca9e-aec3a8b82252"
   },
   "outputs": [
    {
     "name": "stdout",
     "output_type": "stream",
     "text": [
      "number of images: 21785\n",
      "shape of each image: [69, 69]\n",
      "number of channels: 3\n"
     ]
    }
   ],
   "source": [
    "n_images, *shape, n_channels = images.shape\n",
    "print(f\"number of images: {n_images}\")\n",
    "print(f\"shape of each image: {shape}\")\n",
    "print(f\"number of channels: {n_channels}\")"
   ]
  },
  {
   "cell_type": "markdown",
   "metadata": {
    "id": "9X3nN-ChoqoE"
   },
   "source": [
    "MLP networks can not handle multichannel images. Hence, we will convert them into grayscale images. For that purpose, calculate the mean of the three layers"
   ]
  },
  {
   "cell_type": "code",
   "execution_count": 6,
   "metadata": {
    "colab": {
     "base_uri": "https://localhost:8080/"
    },
    "executionInfo": {
     "elapsed": 3955,
     "status": "ok",
     "timestamp": 1699113452785,
     "user": {
      "displayName": "Eduardo Sanchez Karhunen",
      "userId": "07705693878574082533"
     },
     "user_tz": -60
    },
    "id": "fcRdb2sPoeyF",
    "outputId": "183de7bf-ed5b-4e49-8841-a3035ee9da78"
   },
   "outputs": [
    {
     "data": {
      "text/plain": [
       "(21785, 69, 69)"
      ]
     },
     "execution_count": 6,
     "metadata": {},
     "output_type": "execute_result"
    }
   ],
   "source": [
    "images_new = np.array([np.mean(image, axis=2) for image in images])\n",
    "images_new.shape"
   ]
  },
  {
   "cell_type": "markdown",
   "metadata": {
    "id": "pXIX7lGyu2Nc"
   },
   "source": [
    "### Exercise 1. Create train and test datasets"
   ]
  },
  {
   "cell_type": "markdown",
   "metadata": {
    "id": "97_KZhmhvaiU"
   },
   "source": [
    "Divide the dataset into two new datasets for:\n",
    "* training: 90%\n",
    "* test: 10%  \n",
    "\n",
    "Use the `train_test_split` command from scikit_learn. Do not worry for the validation dataset. We will create it on-the-fly during the model training process.\n",
    "\n",
    "More info in: https://scikit-learn.org/stable/modules/generated/sklearn.model_selection.train_test_split.html\n",
    "\n",
    "**Task:** Create the following arrays: `train_images`, `train_labels`, `test_images` and `test_labels`."
   ]
  },
  {
   "cell_type": "code",
   "execution_count": 7,
   "metadata": {
    "id": "Ecy460wawD1J"
   },
   "outputs": [],
   "source": [
    "# your code here\n",
    "\n",
    "from sklearn.model_selection import train_test_split\n",
    "\n",
    "train_idx, test_idx = train_test_split(np.arange(labels.shape[0]), test_size=0.1, random_state=42)\n",
    "train_images, train_labels, test_images, test_labels = images_new[train_idx], labels[train_idx], images_new[test_idx], labels[test_idx]"
   ]
  },
  {
   "cell_type": "markdown",
   "metadata": {
    "id": "7tyB8qj8zFjl"
   },
   "source": [
    "### Exercise 2. Normalize image pixel values"
   ]
  },
  {
   "cell_type": "markdown",
   "metadata": {
    "id": "Ev8LfFKN-VRP"
   },
   "source": [
    "Remember that one of the great advantages of Deep Learning is a simplified preprocessing pipeline. In our case, only a normalization is needed, e.g. dividing all pixel values by their maximum value: 255.\n",
    "\n",
    "**Task:** Divide train and test images by 255.0."
   ]
  },
  {
   "cell_type": "code",
   "execution_count": 8,
   "metadata": {
    "id": "nQG4v6qFxxUK"
   },
   "outputs": [],
   "source": [
    "# your code here\n",
    "\n",
    "train_images = train_images/255.0\n",
    "test_images = test_images/255.0"
   ]
  },
  {
   "cell_type": "markdown",
   "metadata": {
    "id": "GpvRWsl7_BTX"
   },
   "source": [
    "### Build the MLP model"
   ]
  },
  {
   "cell_type": "markdown",
   "metadata": {
    "id": "mSsim3bj_QLA"
   },
   "source": [
    "Our next steps are related to the design of the MLP to solve the problem. Lets consider a simple 2 hidden layer architecture:\n",
    "\n",
    "![picture](https://drive.google.com/uc?id=1RXlmNK1E_E2fbqNfiqKGvtfkWTKfElb1)\n",
    "\n",
    "\n"
   ]
  },
  {
   "cell_type": "markdown",
   "metadata": {
    "id": "PCFr6e_jDb8D"
   },
   "source": [
    "### Exercise 3. Create the input layer."
   ]
  },
  {
   "cell_type": "markdown",
   "metadata": {
    "id": "x3xbAOQlDgQn"
   },
   "source": [
    "Remember:\n",
    "* MLP can only process 1D arrays. Hence, images must be flattened.\n",
    "* The number of neurons of the input layer is the number of features of each data sample. In image problems, each pixel of the image is a feature.  \n",
    "\n",
    "More info in https://www.tensorflow.org/api_docs/python/tf/keras/layers/Flatten\n",
    "\n",
    "**Task:** Create the input layer for our model"
   ]
  },
  {
   "cell_type": "code",
   "execution_count": 9,
   "metadata": {
    "id": "h31DNWoBCFCT"
   },
   "outputs": [],
   "source": [
    "# type your code here\n",
    "\n",
    "flatten_layer = tf.keras.layers.Flatten(input_shape=[69,69],name='input_layer')"
   ]
  },
  {
   "cell_type": "markdown",
   "metadata": {
    "id": "KildGm4hGFSm"
   },
   "source": [
    "### Exercise 4. Create hidden layers."
   ]
  },
  {
   "cell_type": "markdown",
   "metadata": {
    "id": "H43Odrt0GFgF"
   },
   "source": [
    "Create two hidden layers:\n",
    "* Follow the idea of a reduction of the dimensionality step by step.\n",
    "* Remember that the hidden layers use relu as activation function.\n",
    "\n",
    "More info in: https://www.tensorflow.org/api_docs/python/tf/keras/layers/Dense\n",
    "\n",
    "**Task:**  Create two layers with 500 and 100 neurons, respectively."
   ]
  },
  {
   "cell_type": "code",
   "execution_count": 10,
   "metadata": {
    "id": "7zRjHMitHDWv"
   },
   "outputs": [],
   "source": [
    "# your code here\n",
    "\n",
    "hidden_1 = tf.keras.layers.Dense(500,activation='relu',name='hidden_1')\n",
    "hidden_2 = tf.keras.layers.Dense(100,activation='relu',name='hidden_2')"
   ]
  },
  {
   "cell_type": "markdown",
   "metadata": {
    "id": "c8kIS3u2IE6U"
   },
   "source": [
    "### Exercise 5. Create the output layer."
   ]
  },
  {
   "cell_type": "markdown",
   "metadata": {
    "id": "71j6pNqpIFIm"
   },
   "source": [
    "Do not forget:\n",
    "* The number of neurons of this layer is the number of classes.\n",
    "* Its activation function is sigmoid (if 2 classes) or softmax (if >2 classes)\n",
    "\n",
    "**Task:** Create the proper output layer"
   ]
  },
  {
   "cell_type": "code",
   "execution_count": 11,
   "metadata": {
    "id": "Se_GsUM9IvLB"
   },
   "outputs": [],
   "source": [
    "# your code here\n",
    "\n",
    "output_layer = tf.keras.layers.Dense(10,activation='softmax',name='output_layer')"
   ]
  },
  {
   "cell_type": "markdown",
   "metadata": {
    "id": "4nNvqt3JJDrM"
   },
   "source": [
    "### Exercise 6. Join all layers in a MLP"
   ]
  },
  {
   "cell_type": "markdown",
   "metadata": {
    "id": "o0Ckn1JFJDzi"
   },
   "source": [
    "Remember: the first step is to create a `sequential` structure to be filled with the previously created layers.\n",
    "\n",
    "More info in: https://www.tensorflow.org/api_docs/python/tf/keras/Sequential\n",
    "\n",
    "**Task:** Collect all the previous layers in a model"
   ]
  },
  {
   "cell_type": "code",
   "execution_count": 12,
   "metadata": {
    "id": "rOi42HQEJ2Yt"
   },
   "outputs": [],
   "source": [
    "# your code here\n",
    "\n",
    "model = tf.keras.models.Sequential()\n",
    "\n",
    "model.add(flatten_layer)\n",
    "model.add(hidden_1)\n",
    "model.add(hidden_2)\n",
    "model.add(output_layer)"
   ]
  },
  {
   "cell_type": "markdown",
   "metadata": {
    "id": "pU4zT3O0sfGu"
   },
   "source": [
    "### Exercise 7. Inspect model"
   ]
  },
  {
   "cell_type": "markdown",
   "metadata": {
    "id": "9n6i3ftJvqWS"
   },
   "source": [
    "Show a summary of the model, with info of each layer:\n",
    "* name and type of layer\n",
    "* output shape\n",
    "* number of parameters\n",
    "\n",
    "This info is useful to check if the model has been built properly and, very important, to be conscious of the huge number of parameters to train.\n",
    "\n",
    "**Task:** show a summary of the network\n"
   ]
  },
  {
   "cell_type": "code",
   "execution_count": 13,
   "metadata": {
    "colab": {
     "base_uri": "https://localhost:8080/"
    },
    "executionInfo": {
     "elapsed": 12,
     "status": "ok",
     "timestamp": 1699114088045,
     "user": {
      "displayName": "Eduardo Sanchez Karhunen",
      "userId": "07705693878574082533"
     },
     "user_tz": -60
    },
    "id": "dt_lQeyssnFo",
    "outputId": "bc3ef094-29c4-419f-8597-43fc7f62f3ae"
   },
   "outputs": [
    {
     "name": "stdout",
     "output_type": "stream",
     "text": [
      "Model: \"sequential\"\n",
      "_________________________________________________________________\n",
      " Layer (type)                Output Shape              Param #   \n",
      "=================================================================\n",
      " input_layer (Flatten)       (None, 4761)              0         \n",
      "                                                                 \n",
      " hidden_1 (Dense)            (None, 500)               2381000   \n",
      "                                                                 \n",
      " hidden_2 (Dense)            (None, 100)               50100     \n",
      "                                                                 \n",
      " output_layer (Dense)        (None, 10)                1010      \n",
      "                                                                 \n",
      "=================================================================\n",
      "Total params: 2,432,110\n",
      "Trainable params: 2,432,110\n",
      "Non-trainable params: 0\n",
      "_________________________________________________________________\n"
     ]
    }
   ],
   "source": [
    "# your code here\n",
    "\n",
    "model.summary()"
   ]
  },
  {
   "cell_type": "markdown",
   "metadata": {
    "id": "4ob6iG2AKnAg"
   },
   "source": [
    "### Exercise 8. Assign loss function and optimizer"
   ]
  },
  {
   "cell_type": "markdown",
   "metadata": {
    "id": "rcO61kgUKnMw"
   },
   "source": [
    "Before training a model some details must be set:\n",
    "* A loss function to be optimized. In classification problems, cross_entropy is considered:\n",
    "    - 2 classes: binary cross entropy\n",
    "    - +2 classes: categorical cross entropy\n",
    "\n",
    "If the class label is not codified using one_hot, we use sparse_categorical_crossentropy.\n",
    "\n",
    "More info in: https://www.tensorflow.org/api_docs/python/tf/keras/losses/SparseCategoricalCrossentropy\n",
    "\n",
    "* An optimization \"technique\" to reduce the loss funtion up to a local minimum Typically, an adam optimizer is considered for training DL models.\n",
    "\n",
    "More info in: https://www.tensorflow.org/api_docs/python/tf/keras/optimizers/Adam\n",
    "\n",
    "Task: Indicate to the netowrk the selected loss function and optimizer"
   ]
  },
  {
   "cell_type": "code",
   "execution_count": 14,
   "metadata": {
    "id": "foO3WkdvLBpP"
   },
   "outputs": [],
   "source": [
    "# your code here\n",
    "\n",
    "model.compile(loss='sparse_categorical_crossentropy',\n",
    "              optimizer='adam',\n",
    "              metrics=['accuracy'])"
   ]
  },
  {
   "cell_type": "markdown",
   "metadata": {
    "id": "GZ-rDDyxN3q6"
   },
   "source": [
    "### Exercise 9. Train the network"
   ]
  },
  {
   "cell_type": "markdown",
   "metadata": {
    "id": "-mPWZtqjN33d"
   },
   "source": [
    "At this point, two final decision must be taken:\n",
    "* How many epochs our model will be trained on. In this concrete problem, beyond 7 or 10 epochs there is no improvement.\n",
    "* A validation dataset must be provided to the model. Typically 20% of the training dataset is more than enough for our purposes. Use the parameter `validation_split` to indicate this value to the model training.\n",
    "\n",
    "You should obtain an accuracy on the validation dataset around 65-68%\n",
    "\n",
    "**Task:** Train the model with the selected number of epochs and validation_split parameter."
   ]
  },
  {
   "cell_type": "code",
   "execution_count": 15,
   "metadata": {
    "colab": {
     "base_uri": "https://localhost:8080/"
    },
    "executionInfo": {
     "elapsed": 98943,
     "status": "ok",
     "timestamp": 1699114656056,
     "user": {
      "displayName": "Eduardo Sanchez Karhunen",
      "userId": "07705693878574082533"
     },
     "user_tz": -60
    },
    "id": "DKsg-lj4OESP",
    "outputId": "ccfe48a6-abbc-4ff6-d91b-06e3ddcd951d"
   },
   "outputs": [
    {
     "name": "stdout",
     "output_type": "stream",
     "text": [
      "Epoch 1/10\n",
      "491/491 [==============================] - 4s 8ms/step - loss: 1.4217 - accuracy: 0.4762 - val_loss: 1.1349 - val_accuracy: 0.6058\n",
      "Epoch 2/10\n",
      "491/491 [==============================] - 4s 7ms/step - loss: 1.0731 - accuracy: 0.6217 - val_loss: 1.1212 - val_accuracy: 0.5974\n",
      "Epoch 3/10\n",
      "491/491 [==============================] - 4s 7ms/step - loss: 0.9800 - accuracy: 0.6515 - val_loss: 1.0929 - val_accuracy: 0.6109\n",
      "Epoch 4/10\n",
      "491/491 [==============================] - 4s 7ms/step - loss: 0.9269 - accuracy: 0.6694 - val_loss: 0.9647 - val_accuracy: 0.6576\n",
      "Epoch 5/10\n",
      "491/491 [==============================] - 3s 7ms/step - loss: 0.8858 - accuracy: 0.6859 - val_loss: 0.9485 - val_accuracy: 0.6622\n",
      "Epoch 6/10\n",
      "491/491 [==============================] - 4s 7ms/step - loss: 0.8554 - accuracy: 0.6940 - val_loss: 0.9219 - val_accuracy: 0.6660\n",
      "Epoch 7/10\n",
      "491/491 [==============================] - 4s 8ms/step - loss: 0.8188 - accuracy: 0.7047 - val_loss: 0.9563 - val_accuracy: 0.6486\n",
      "Epoch 8/10\n",
      "491/491 [==============================] - 4s 7ms/step - loss: 0.7941 - accuracy: 0.7154 - val_loss: 0.9125 - val_accuracy: 0.6800\n",
      "Epoch 9/10\n",
      "491/491 [==============================] - 4s 8ms/step - loss: 0.7710 - accuracy: 0.7195 - val_loss: 0.8832 - val_accuracy: 0.6856\n",
      "Epoch 10/10\n",
      "491/491 [==============================] - 4s 7ms/step - loss: 0.7494 - accuracy: 0.7302 - val_loss: 0.8604 - val_accuracy: 0.6953\n"
     ]
    }
   ],
   "source": [
    "# your code here\n",
    "\n",
    "history = model.fit(train_images, train_labels, epochs=10, validation_split=0.2, verbose=1)"
   ]
  },
  {
   "cell_type": "markdown",
   "metadata": {
    "id": "XJdEtcPHtQOM"
   },
   "source": [
    "### Exercise 10: Plot training history"
   ]
  },
  {
   "cell_type": "markdown",
   "metadata": {
    "id": "5sbhX2S_w--J"
   },
   "source": [
    "It is a good practice to plot our training curves. Typically we compare the evolution of loss function (accuracy) vs epochs.\n",
    "\n",
    "**Task:** Plot train and valid loss (and accuracy) evolution during training "
   ]
  },
  {
   "cell_type": "code",
   "execution_count": 16,
   "metadata": {
    "colab": {
     "base_uri": "https://localhost:8080/",
     "height": 393
    },
    "executionInfo": {
     "elapsed": 1229,
     "status": "ok",
     "timestamp": 1699114784187,
     "user": {
      "displayName": "Eduardo Sanchez Karhunen",
      "userId": "07705693878574082533"
     },
     "user_tz": -60
    },
    "id": "uwbWpeimYxD8",
    "outputId": "eaac534d-c570-4adc-c18b-224dc784fcec"
   },
   "outputs": [
    {
     "data": {
      "image/png": "[encoded data removed]",
      "text/plain": [
       "<Figure size 1200x400 with 2 Axes>"
      ]
     },
     "metadata": {},
     "output_type": "display_data"
    }
   ],
   "source": [
    "# your code here\n",
    "\n",
    "df_1 = pd.DataFrame({'loss_train': history.history['loss'],\n",
    "                     'loss_valid': history.history['val_loss']\n",
    "                    })\n",
    "\n",
    "df_2 = pd.DataFrame({'accuracy': history.history['accuracy'],\n",
    "                   'accuracy_valid': history.history['val_accuracy']\n",
    "                   })\n",
    "\n",
    "data = [df_1, df_2]\n",
    "y_labels = ['loss', 'accuracy']\n",
    "\n",
    "f, axs = plt.subplots(1, 2, sharex=True, figsize=(12,4))\n",
    "for ax, y_label, df in zip(axs, y_labels, data):\n",
    "    ax.plot(df, label=['train','valid'])\n",
    "    ax.grid(True)\n",
    "    ax.set_xlabel('epoch')\n",
    "    ax.set_ylabel(y_label)\n",
    "    ax.legend();"
   ]
  },
  {
   "cell_type": "markdown",
   "metadata": {
    "id": "hu8QYYqrtzum"
   },
   "source": [
    "### Exercise 11. Evaluate model accuracy"
   ]
  },
  {
   "cell_type": "markdown",
   "metadata": {
    "id": "KbiNtUFmdPwD"
   },
   "source": [
    "**Task:** Once trained the model, obtain the accuracy of the model on the test dataset."
   ]
  },
  {
   "cell_type": "code",
   "execution_count": 17,
   "metadata": {
    "colab": {
     "base_uri": "https://localhost:8080/"
    },
    "executionInfo": {
     "elapsed": 336,
     "status": "ok",
     "timestamp": 1698790534859,
     "user": {
      "displayName": "Eduardo Sanchez Karhunen",
      "userId": "07705693878574082533"
     },
     "user_tz": -60
    },
    "id": "gj0sNN4NdQA-",
    "outputId": "5d5bfaa5-e5ad-48a2-9f58-6618f0579680"
   },
   "outputs": [
    {
     "name": "stdout",
     "output_type": "stream",
     "text": [
      "model accuracy: 0.67\n"
     ]
    }
   ],
   "source": [
    "# your code here\n",
    "\n",
    "res = model.evaluate(test_images,test_labels, verbose=0)\n",
    "print(f\"model accuracy: {np.round(res[1],2)}\")"
   ]
  },
  {
   "cell_type": "markdown",
   "metadata": {
    "id": "WBZVdHVBvTdJ"
   },
   "source": [
    "### Exercise 12: Making predictions with the model"
   ]
  },
  {
   "cell_type": "markdown",
   "metadata": {
    "id": "jdpuyqs0wLG6"
   },
   "source": [
    "Given an input image, the `predict` method returns the output of the last layer. This output is interpreted as the probability of the image to correspond to each of the classes.\n",
    "\n",
    "**Task:** Inject to the model 3 images from the test dataset to obtain their probabilities."
   ]
  },
  {
   "cell_type": "code",
   "execution_count": 18,
   "metadata": {
    "colab": {
     "base_uri": "https://localhost:8080/"
    },
    "executionInfo": {
     "elapsed": 397,
     "status": "ok",
     "timestamp": 1699114988043,
     "user": {
      "displayName": "Eduardo Sanchez Karhunen",
      "userId": "07705693878574082533"
     },
     "user_tz": -60
    },
    "id": "98n5WehPvT0n",
    "outputId": "1bb9630b-f096-4bd8-9135-517659d346af"
   },
   "outputs": [
    {
     "name": "stdout",
     "output_type": "stream",
     "text": [
      "1/1 [==============================] - 0s 125ms/step\n"
     ]
    },
    {
     "data": {
      "text/plain": [
       "array([[0.62, 0.04, 0.06, 0.  , 0.  , 0.  , 0.  , 0.08, 0.18, 0.02],\n",
       "       [0.04, 0.91, 0.04, 0.  , 0.  , 0.  , 0.  , 0.  , 0.  , 0.  ],\n",
       "       [0.46, 0.1 , 0.13, 0.  , 0.  , 0.  , 0.  , 0.1 , 0.18, 0.03]],\n",
       "      dtype=float32)"
      ]
     },
     "execution_count": 18,
     "metadata": {},
     "output_type": "execute_result"
    }
   ],
   "source": [
    "# your code here\n",
    "\n",
    "X_new = test_images[:3]\n",
    "y_proba = model.predict(X_new)\n",
    "y_proba.round(2)"
   ]
  },
  {
   "cell_type": "markdown",
   "metadata": {
    "id": "WYcLKXWdjjK0"
   },
   "source": [
    "**Task:** Using `np.argmax` and the probabilities, decide which is the class of each image"
   ]
  },
  {
   "cell_type": "code",
   "execution_count": 19,
   "metadata": {
    "colab": {
     "base_uri": "https://localhost:8080/"
    },
    "executionInfo": {
     "elapsed": 5,
     "status": "ok",
     "timestamp": 1699115036323,
     "user": {
      "displayName": "Eduardo Sanchez Karhunen",
      "userId": "07705693878574082533"
     },
     "user_tz": -60
    },
    "id": "C5aTnq2ggf8Y",
    "outputId": "52771276-b046-4db4-b9fb-fabb71f4444e"
   },
   "outputs": [
    {
     "data": {
      "text/plain": [
       "array([0, 1, 0], dtype=int64)"
      ]
     },
     "execution_count": 19,
     "metadata": {},
     "output_type": "execute_result"
    }
   ],
   "source": [
    "# your code here\n",
    "\n",
    "y_predicted = np.argmax(y_proba.round(2), axis=1)\n",
    "y_predicted"
   ]
  },
  {
   "cell_type": "markdown",
   "metadata": {
    "id": "MwYtZX7WlRJr"
   },
   "source": [
    "Task: Finally, compare the predicted classes with the real ones. There should be approx. 2/3 of correct predictions (or if we are lucky, even more)."
   ]
  },
  {
   "cell_type": "code",
   "execution_count": 20,
   "metadata": {
    "colab": {
     "base_uri": "https://localhost:8080/"
    },
    "executionInfo": {
     "elapsed": 324,
     "status": "ok",
     "timestamp": 1699115126681,
     "user": {
      "displayName": "Eduardo Sanchez Karhunen",
      "userId": "07705693878574082533"
     },
     "user_tz": -60
    },
    "id": "LJIsn41Hgu_b",
    "outputId": "d953bd4f-0728-4ea7-a8ea-2280e504d4ed"
   },
   "outputs": [
    {
     "data": {
      "text/plain": [
       "array([0, 1, 1], dtype=uint8)"
      ]
     },
     "execution_count": 20,
     "metadata": {},
     "output_type": "execute_result"
    }
   ],
   "source": [
    "# your code here\n",
    "\n",
    "test_labels[:3]"
   ]
  },
  {
   "cell_type": "code",
   "execution_count": null,
   "metadata": {
    "id": "KkDq62QLysp1"
   },
   "outputs": [],
   "source": []
  }
 ],
 "metadata": {
  "colab": {
   "provenance": []
  },
  "kernelspec": {
   "display_name": "Python 3 (ipykernel)",
   "language": "python",
   "name": "python3"
  },
  "language_info": {
   "codemirror_mode": {
    "name": "ipython",
    "version": 3
   },
   "file_extension": ".py",
   "mimetype": "text/x-python",
   "name": "python",
   "nbconvert_exporter": "python",
   "pygments_lexer": "ipython3",
   "version": "3.10.12"
  }
 },
 "nbformat": 4,
 "nbformat_minor": 1
}
