{
 "cells": [
  {
   "cell_type": "markdown",
   "metadata": {
    "id": "ZDitZsQALa1H"
   },
   "source": [
    "# HANDS-ON PRACTICE SESSION 2: CONVOLUTIONAL NEURAL NETWORKS FUNDAMENTALS"
   ]
  },
  {
   "cell_type": "markdown",
   "metadata": {
    "id": "Wi84rOu4si0V"
   },
   "source": [
    "SO Basics of Neural Networks 2023 school at the IAA-CSIC. Nov 2023.  \n",
    "Eduardo Sánchez Karhunen  (fesanchez@us.es)  \n",
    "University of Seville. Spain.  Dept. of CS and AI"
   ]
  },
  {
   "cell_type": "markdown",
   "metadata": {
    "id": "pi-LyvK2V070"
   },
   "source": [
    "### Introduction"
   ]
  },
  {
   "cell_type": "markdown",
   "metadata": {
    "id": "1EQPOjdLUGZC"
   },
   "source": [
    "In this second hands-on practice we are going to tackle again the the Galaxy10 classification problem. As a reminder, the Galaxy10 dataset is a collection of 69x69 colored images with 10 mutually exclusive classes. For educational purposes, we will design a CNN (Convolutional Neural Network) form scratch."
   ]
  },
  {
   "cell_type": "markdown",
   "metadata": {
    "id": "tLgenWShFb0N"
   },
   "source": [
    "### 1. Loading libraries"
   ]
  },
  {
   "cell_type": "code",
   "execution_count": null,
   "metadata": {
    "id": "x3FXwlSEgKYa"
   },
   "outputs": [],
   "source": [
    "import numpy as np\n",
    "import h5py\n",
    "import tensorflow as tf\n",
    "import pandas as pd\n",
    "import matplotlib.pyplot as plt\n",
    "# import matplotlib.image as mpimg"
   ]
  },
  {
   "cell_type": "code",
   "source": [
    "# only execute this lines if the following error appears\n",
    "# OMP: Error #15: Initializing libiomp5md.dll, but found libiomp5md.dll already initialized.\n",
    "\n",
    "# import os\n",
    "# os.environ['KMP_DUPLICATE_LIB_OK']='True'"
   ],
   "metadata": {
    "id": "6-Bbu7KcLUPe"
   },
   "execution_count": null,
   "outputs": []
  },
  {
   "cell_type": "markdown",
   "metadata": {
    "id": "kVhPclDLgYUu"
   },
   "source": [
    "### Exercise 0: Dataset preparation"
   ]
  },
  {
   "cell_type": "markdown",
   "metadata": {
    "id": "iCjX9i4egb-q"
   },
   "source": [
    "As in the previous session, download the dataset to your local disk."
   ]
  },
  {
   "cell_type": "code",
   "execution_count": null,
   "metadata": {
    "colab": {
     "base_uri": "https://localhost:8080/"
    },
    "executionInfo": {
     "elapsed": 4701,
     "status": "ok",
     "timestamp": 1699199028868,
     "user": {
      "displayName": "Eduardo Sanchez Karhunen",
      "userId": "07705693878574082533"
     },
     "user_tz": -60
    },
    "id": "A6x2TeCbjZ95",
    "outputId": "555eb3d4-e6a9-4154-e499-1780a060ef72"
   },
   "outputs": [
    {
     "output_type": "stream",
     "name": "stdout",
     "text": [
      "--2023-11-05 15:43:44--  http://www.astro.utoronto.ca/~bovy/Galaxy10/Galaxy10.h5\n",
      "Resolving www.astro.utoronto.ca (www.astro.utoronto.ca)... 128.100.89.92\n",
      "Connecting to www.astro.utoronto.ca (www.astro.utoronto.ca)|128.100.89.92|:80... connected.\n",
      "HTTP request sent, awaiting response... 200 OK\n",
      "Length: 210234548 (200M)\n",
      "Saving to: ‘Galaxy10.h5.8’\n",
      "\n",
      "Galaxy10.h5.8       100%[===================>] 200.50M  48.3MB/s    in 4.6s    \n",
      "\n",
      "2023-11-05 15:43:48 (43.8 MB/s) - ‘Galaxy10.h5.8’ saved [210234548/210234548]\n"
     ]
    }
   ],
   "source": [
    "# LINUX\n",
    "!wget http://www.astro.utoronto.ca/~bovy/Galaxy10/Galaxy10.h5\n",
    "\n",
    "# WINDOWS\n",
    "# !curl \"http://www.astro.utoronto.ca/~bovy/Galaxy10/Galaxy10.h5\" --output Galaxy10.h5"
   ]
  },
  {
   "cell_type": "markdown",
   "metadata": {
    "id": "r9HHkcMxjfAN"
   },
   "source": [
    "Next, we need to convert the downloaded h5 files into two numpy arrays containing images and labels."
   ]
  },
  {
   "cell_type": "code",
   "execution_count": null,
   "metadata": {
    "id": "NjrXTGkNgWCt"
   },
   "outputs": [],
   "source": [
    "hf = h5py.File('Galaxy10.h5', 'r')\n",
    "labels, images = hf.get('ans')[()], hf.get('images')[()]"
   ]
  },
  {
   "cell_type": "markdown",
   "metadata": {
    "id": "P8fXWNW0m09i"
   },
   "source": [
    "Check the shape of the dataset: number of images and its shape."
   ]
  },
  {
   "cell_type": "code",
   "execution_count": null,
   "metadata": {
    "colab": {
     "base_uri": "https://localhost:8080/"
    },
    "executionInfo": {
     "elapsed": 13,
     "status": "ok",
     "timestamp": 1699199033310,
     "user": {
      "displayName": "Eduardo Sanchez Karhunen",
      "userId": "07705693878574082533"
     },
     "user_tz": -60
    },
    "id": "WDKwAL3KmboB",
    "outputId": "adfdc2a8-0890-48ee-eed8-db946fe26da4"
   },
   "outputs": [
    {
     "output_type": "stream",
     "name": "stdout",
     "text": [
      "number of images: 21785\n",
      "shape of each image: [69, 69]\n",
      "number of channels: 3\n"
     ]
    }
   ],
   "source": [
    "n_images, *shape, n_channels = images.shape\n",
    "print(f\"number of images: {n_images}\")\n",
    "print(f\"shape of each image: {shape}\")\n",
    "print(f\"number of channels: {n_channels}\")"
   ]
  },
  {
   "cell_type": "markdown",
   "metadata": {
    "id": "9X3nN-ChoqoE"
   },
   "source": [
    "As we have seen in the first session, MLP networks can not handle colored (multichannel) images and we converted them into grayscale. On the contrary, CNN were designed to handle images in a very natural way."
   ]
  },
  {
   "cell_type": "markdown",
   "metadata": {
    "id": "pXIX7lGyu2Nc"
   },
   "source": [
    "### Exercise 1. Create train and test datasets"
   ]
  },
  {
   "cell_type": "markdown",
   "metadata": {
    "id": "97_KZhmhvaiU"
   },
   "source": [
    "Divide the dataset into two new datasets for:\n",
    "* training: 90%\n",
    "* test: 10%  \n",
    "\n",
    "Use the `train_test_split` command from scikit_learn. Do not worry for the validation dataset. We will create it on-the-fly during the model training process.\n",
    "\n",
    "More info in: https://scikit-learn.org/stable/modules/generated/sklearn.model_selection.train_test_split.html\n",
    "\n",
    "**Task:** Create the following arrays: `train_images`, `train_labels`, `test_images` and `test_labels`."
   ]
  },
  {
   "cell_type": "code",
   "source": [
    "# your code here\n",
    "\n",
    "from sklearn.model_selection import train_test_split\n",
    "\n",
    "train_idx, test_idx = train_test_split(np.arange(labels.shape[0]), test_size=0.1, random_state=42)\n",
    "train_images, train_labels, test_images, test_labels = images[train_idx], labels[train_idx], images[test_idx], labels[test_idx]"
   ],
   "metadata": {
    "id": "SqRFDFSjsG78"
   },
   "execution_count": null,
   "outputs": []
  },
  {
   "cell_type": "markdown",
   "metadata": {
    "id": "7tyB8qj8zFjl"
   },
   "source": [
    "### Exercise 2. Normalize image pixel values"
   ]
  },
  {
   "cell_type": "markdown",
   "metadata": {
    "id": "Ev8LfFKN-VRP"
   },
   "source": [
    "Again, we must apply a very simple normalization preprocessing step. e.g. dividing all pixel values by their maximum value: 255.\n",
    "\n",
    "**Task:** Divide train and test images by 255.0."
   ]
  },
  {
   "cell_type": "code",
   "source": [
    "# your code here\n",
    "\n",
    "train_images = train_images/255.0\n",
    "test_images = test_images/255.0"
   ],
   "metadata": {
    "id": "_gcTjnbtsc45"
   },
   "execution_count": null,
   "outputs": []
  },
  {
   "cell_type": "markdown",
   "metadata": {
    "id": "GpvRWsl7_BTX"
   },
   "source": [
    "### Exercise 3. Building the CNN model"
   ]
  },
  {
   "cell_type": "markdown",
   "metadata": {
    "id": "mSsim3bj_QLA"
   },
   "source": [
    "Our next step is to design a CNN to solve the problem. Lets consider a simple 1 stage architecture. Here, one stage means that our implementation contains an single pair of convolutional + pool layers.\n",
    "\n",
    "* First, we will define the preprocessing stage: 1 conv + 1 pooling layer.\n",
    "\n",
    "* Secondly, a transition between the preprocessing stage and the final stage is needed: 1 flattening layer.\n",
    "\n",
    "* Finally, the decision stage will be defined: 1 dense layer + 1 output_layer.\n",
    "\n",
    "\n",
    "<br>\n",
    "\n",
    "![picture](https://drive.google.com/uc?id=1k8aHjwHlRP3wgU-IAtpKbcvwqyvvyUwY)\n"
   ]
  },
  {
   "cell_type": "markdown",
   "metadata": {
    "id": "PCFr6e_jDb8D"
   },
   "source": [
    "### Exercise 4. First convolutional layer creation."
   ]
  },
  {
   "cell_type": "markdown",
   "metadata": {
    "id": "x3xbAOQlDgQn"
   },
   "source": [
    "Remember the first layer in a NN always has to be informed of the shape of the input samples.\n",
    "\n",
    "As indicated in the image above, our layer parameters are:\n",
    "* 12 kernels (3x3)\n",
    "* Stride = 1. The kernel will be shifted pixel by pixel along the image.\n",
    "* No-padding. In Tensorflow, this is indicated as padding = `valid`.\n",
    "* There are no indications about the activation function. Hence, we can consider a ReLU.\n",
    "\n",
    "More details in https://www.tensorflow.org/api_docs/python/tf/keras/layers/Conv2D.\n",
    "\n",
    "**Task:** Create the convolutional layer for our model"
   ]
  },
  {
   "cell_type": "code",
   "source": [
    "# your code here\n",
    "\n",
    "conv_1 = tf.keras.layers.Conv2D(filters=12,               # number of filters (number of kernels)\n",
    "                                kernel_size=(3, 3),       # kernel shape\n",
    "                                strides=(1, 1),           # how shift kernel moving along the image\n",
    "                                padding='valid',          # either to include padding or not\n",
    "                                activation='relu',        # activation function\n",
    "                                name='conv_1',\n",
    "                                input_shape=(69, 69, 3))"
   ],
   "metadata": {
    "id": "Jr1NCfO_vZ3A"
   },
   "execution_count": null,
   "outputs": []
  },
  {
   "cell_type": "markdown",
   "source": [
    "### Exercise 5. Pooling layer creation"
   ],
   "metadata": {
    "id": "7yFoSaEewj_H"
   }
  },
  {
   "cell_type": "markdown",
   "source": [
    "Once obtained the previous layer has obtained the features, a subsampling is perform. In this case, each 2x2 pixel group will be resumed into a single value (the maximum of the group).\n",
    "\n",
    "Hence, use the following parameters:\n",
    "* pool_size = 2x2\n",
    "* stride = 2\n",
    "* There is no activation funtion associated to pooling layers.\n",
    "\n",
    "More info in: https://www.tensorflow.org/api_docs/python/tf/keras/layers/MaxPooling2D\n",
    "\n",
    "**Task:** Create the pooling layer for our model"
   ],
   "metadata": {
    "id": "sxZTQbKmw6Qy"
   }
  },
  {
   "cell_type": "code",
   "source": [
    "# your code here\n",
    "\n",
    "pool_1 = tf.keras.layers.MaxPooling2D(pool_size=(2, 2),\n",
    "                                      strides=(2, 2),\n",
    "                                      name='pool_1')"
   ],
   "metadata": {
    "id": "bAMchcc1zWMv"
   },
   "execution_count": null,
   "outputs": []
  },
  {
   "cell_type": "markdown",
   "source": [
    "### Exercise 6. Transition between Convs and decision stage"
   ],
   "metadata": {
    "id": "d6fqiSX3Sxwz"
   }
  },
  {
   "cell_type": "markdown",
   "source": [
    "**Task:** Create the flattening layer"
   ],
   "metadata": {
    "id": "eNxcEpGzS-nD"
   }
  },
  {
   "cell_type": "code",
   "source": [
    "flatten_layer = tf.keras.layers.Flatten()"
   ],
   "metadata": {
    "id": "BGYrbqD1Sw3-"
   },
   "execution_count": null,
   "outputs": []
  },
  {
   "cell_type": "markdown",
   "metadata": {
    "id": "KildGm4hGFSm"
   },
   "source": [
    "### Exercise 7. Decision stage: hidden layer creation."
   ]
  },
  {
   "cell_type": "markdown",
   "metadata": {
    "id": "H43Odrt0GFgF"
   },
   "source": [
    "Once the flattened layer has completed its operation, the image has been transformed into a 1D-array.\n",
    "\n",
    "To determine the number of neurons of the following dense layers we need to know the size of this 1D-array.\n",
    "\n",
    "* input image = (69, 69, 3)\n",
    "* after conv = (67, 67, 12)\n",
    "* after pool = (33, 33, 12)\n",
    "* flattening = 33 x 33 x 12 = 13.068\n",
    "\n",
    "After that, a couple of dense layer are defined to reduce the dimensionality of the information from 13.068 to 10.\n",
    "\n",
    "Remember:\n",
    "* Follow the idea of a reduction of the dimensionality step by step.\n",
    "* Hidden layers activation function is always a ReLU family one.\n",
    "\n",
    "**Task:** Create two dense layers with 500 and 100 neurons, respectively."
   ]
  },
  {
   "cell_type": "code",
   "execution_count": null,
   "metadata": {
    "id": "7zRjHMitHDWv"
   },
   "outputs": [],
   "source": [
    "# your code here\n",
    "\n",
    "dense_1 = tf.keras.layers.Dense(units=500, activation='relu', name='dense_1')\n",
    "dense_2 = tf.keras.layers.Dense(units=100, activation='relu', name='dense_2')"
   ]
  },
  {
   "cell_type": "markdown",
   "metadata": {
    "id": "c8kIS3u2IE6U"
   },
   "source": [
    "### Exercise 8. Create the output layer."
   ]
  },
  {
   "cell_type": "markdown",
   "metadata": {
    "id": "71j6pNqpIFIm"
   },
   "source": [
    "Do not forget:\n",
    "* The number of neurons of this layer is the number of classes.\n",
    "* Its activation function is sigmoid (if 2 classes) or softmax (if >2 classes)\n",
    "\n",
    "**Task:** Create the proper output layer"
   ]
  },
  {
   "cell_type": "code",
   "execution_count": null,
   "metadata": {
    "id": "TLucNPGeIvEK"
   },
   "outputs": [],
   "source": [
    "# Your code here\n",
    "\n",
    "output_layer = tf.keras.layers.Dense(units=10, activation='softmax', name='output_layer')"
   ]
  },
  {
   "cell_type": "markdown",
   "metadata": {
    "id": "4nNvqt3JJDrM"
   },
   "source": [
    "### Exercise 9. Join all layers in a CNN"
   ]
  },
  {
   "cell_type": "markdown",
   "metadata": {
    "id": "o0Ckn1JFJDzi"
   },
   "source": [
    "Remember: the first step is to create a `sequential` structure to be filled with the previously created layers.\n",
    "\n",
    "More info in: https://www.tensorflow.org/api_docs/python/tf/keras/Sequential\n",
    "\n",
    "**Task:** Collect all the previous layers in a model"
   ]
  },
  {
   "cell_type": "code",
   "execution_count": null,
   "metadata": {
    "id": "rOi42HQEJ2Yt"
   },
   "outputs": [],
   "source": [
    "# your code here\n",
    "\n",
    "# input shape: (69,69,3)\n",
    "model = tf.keras.Sequential()\n",
    "\n",
    "model.add(conv_1)\n",
    "# output shape: (67,67,12)\n",
    "\n",
    "model.add(pool_1)\n",
    "# output shape: (33,33,12)\n",
    "\n",
    "model.add(flatten_layer)\n",
    "# output shape: 13068\n",
    "\n",
    "model.add(dense_1)\n",
    "# output shape: 500\n",
    "\n",
    "model.add(dense_2)\n",
    "# output shape: 100\n",
    "\n",
    "model.add(output_layer)\n",
    "# output shape: 10\n"
   ]
  },
  {
   "cell_type": "markdown",
   "source": [
    "### Exercise 10. Model inspection"
   ],
   "metadata": {
    "id": "pU4zT3O0sfGu"
   }
  },
  {
   "cell_type": "markdown",
   "source": [
    "Show a summary of the model, with info of each layer:\n",
    "* name and type of layer\n",
    "* output shape\n",
    "* number of parameters\n",
    "\n",
    "This info is useful to check if the model has been built properly and, very important, to be conscious of the huge number of parameters to train.\n",
    "\n",
    "You should obtain aprox 6,5M of parameters. If we would tackle this problem with MLP we had needed aprox 69 x 69 x3 x 1000\n",
    "\n",
    "**Task:** show a summary of the network"
   ],
   "metadata": {
    "id": "pHRg_0oiv5Jv"
   }
  },
  {
   "cell_type": "code",
   "source": [
    "# your code here\n",
    "\n",
    "model.summary()"
   ],
   "metadata": {
    "id": "dt_lQeyssnFo",
    "colab": {
     "base_uri": "https://localhost:8080/"
    },
    "executionInfo": {
     "status": "ok",
     "timestamp": 1699199035483,
     "user_tz": -60,
     "elapsed": 4,
     "user": {
      "displayName": "Eduardo Sanchez Karhunen",
      "userId": "07705693878574082533"
     }
    },
    "outputId": "3d08c713-2a78-4b1e-b277-ea4f362e239e"
   },
   "execution_count": null,
   "outputs": [
    {
     "output_type": "stream",
     "name": "stdout",
     "text": [
      "Model: \"sequential\"\n",
      "_________________________________________________________________\n",
      " Layer (type)                Output Shape              Param #   \n",
      "=================================================================\n",
      " conv_1 (Conv2D)             (None, 67, 67, 12)        336       \n",
      "                                                                 \n",
      " pool_1 (MaxPooling2D)       (None, 33, 33, 12)        0         \n",
      "                                                                 \n",
      " flatten (Flatten)           (None, 13068)             0         \n",
      "                                                                 \n",
      " dense_1 (Dense)             (None, 500)               6534500   \n",
      "                                                                 \n",
      " dense_2 (Dense)             (None, 100)               50100     \n",
      "                                                                 \n",
      " output_layer (Dense)        (None, 10)                1010      \n",
      "                                                                 \n",
      "=================================================================\n",
      "Total params: 6585946 (25.12 MB)\n",
      "Trainable params: 6585946 (25.12 MB)\n",
      "Non-trainable params: 0 (0.00 Byte)\n",
      "_________________________________________________________________\n"
     ]
    }
   ]
  },
  {
   "cell_type": "markdown",
   "metadata": {
    "id": "4ob6iG2AKnAg"
   },
   "source": [
    "### Exercise 11. Assign loss function and optimizer"
   ]
  },
  {
   "cell_type": "markdown",
   "metadata": {
    "id": "rcO61kgUKnMw"
   },
   "source": [
    "Before training a model some details must be set:\n",
    "* A loss function to be optimized. In classification problems, cross_entropy is considered:\n",
    "    - 2 classes: binary cross entropy\n",
    "    - +2 classes: categorical cross entropy\n",
    "\n",
    "If the class label is not codified using one_hot, we use sparse_categorical_crossentropy.\n",
    "\n",
    "More info in: https://www.tensorflow.org/api_docs/python/tf/keras/losses/SparseCategoricalCrossentropy\n",
    "\n",
    "* An optimization \"technique\" to reduce the loss funtion up to a local minimum Typically, an adam optimizer is considered for training DL models.\n",
    "\n",
    "More info in: https://www.tensorflow.org/api_docs/python/tf/keras/optimizers/Adam\n",
    "\n",
    "**Task:** Indicate to the network the selected loss function and optimizer\n"
   ]
  },
  {
   "cell_type": "code",
   "execution_count": null,
   "metadata": {
    "id": "foO3WkdvLBpP"
   },
   "outputs": [],
   "source": [
    "# your code here\n",
    "\n",
    "# model.compile(loss='sparse_categorical_crossentropy',\n",
    "#              optimizer='adam',\n",
    "#              metrics=['accuracy'])\n",
    "\n",
    "# an alternative\n",
    "loss_function = tf.keras.losses.sparse_categorical_crossentropy\n",
    "optim = tf.keras.optimizers.Adam(learning_rate=1e-3)\n",
    "\n",
    "model.compile(\n",
    "    loss=loss_function,\n",
    "    optimizer=optim,\n",
    "    metrics=['accuracy'])"
   ]
  },
  {
   "cell_type": "markdown",
   "metadata": {
    "id": "GZ-rDDyxN3q6"
   },
   "source": [
    "### Exercise 12. Network training"
   ]
  },
  {
   "cell_type": "markdown",
   "metadata": {
    "id": "-mPWZtqjN33d"
   },
   "source": [
    "At this point, two final decision must be taken:\n",
    "* * How many epochs do we need to used? In this concrete problem, beyond 7-10 epochs there is no improvement.\n",
    "* A validation dataset must be provided to the model. Typically 20% of the training dataset is more than enough for our purposes. Use the parameter `validation_split` to indicate this value to the model training.\n",
    "\n",
    "You should obtain an accuracy on the validation dataset around 71-73%\n",
    "\n",
    "**Task:** Train the model with the selected number of epochs and validation_split parameter."
   ]
  },
  {
   "cell_type": "code",
   "execution_count": null,
   "metadata": {
    "id": "DKsg-lj4OESP",
    "colab": {
     "base_uri": "https://localhost:8080/"
    },
    "executionInfo": {
     "status": "ok",
     "timestamp": 1699199061340,
     "user_tz": -60,
     "elapsed": 25858,
     "user": {
      "displayName": "Eduardo Sanchez Karhunen",
      "userId": "07705693878574082533"
     }
    },
    "outputId": "55613416-3a27-4d4b-adf6-e11f451c4a58"
   },
   "outputs": [
    {
     "output_type": "stream",
     "name": "stdout",
     "text": [
      "Epoch 1/10\n",
      "491/491 [==============================] - 6s 6ms/step - loss: 1.2995 - accuracy: 0.4915 - val_loss: 0.9679 - val_accuracy: 0.6331\n",
      "Epoch 2/10\n",
      "491/491 [==============================] - 2s 4ms/step - loss: 0.8548 - accuracy: 0.6889 - val_loss: 0.8466 - val_accuracy: 0.6823\n",
      "Epoch 3/10\n",
      "491/491 [==============================] - 2s 4ms/step - loss: 0.7301 - accuracy: 0.7321 - val_loss: 0.8266 - val_accuracy: 0.6928\n",
      "Epoch 4/10\n",
      "491/491 [==============================] - 2s 4ms/step - loss: 0.6476 - accuracy: 0.7603 - val_loss: 0.7714 - val_accuracy: 0.7241\n",
      "Epoch 5/10\n",
      "491/491 [==============================] - 2s 4ms/step - loss: 0.5534 - accuracy: 0.7971 - val_loss: 0.7539 - val_accuracy: 0.7234\n",
      "Epoch 6/10\n",
      "491/491 [==============================] - 2s 4ms/step - loss: 0.4737 - accuracy: 0.8301 - val_loss: 0.8063 - val_accuracy: 0.7244\n",
      "Epoch 7/10\n",
      "491/491 [==============================] - 2s 4ms/step - loss: 0.3909 - accuracy: 0.8615 - val_loss: 0.8562 - val_accuracy: 0.7333\n",
      "Epoch 8/10\n",
      "491/491 [==============================] - 2s 4ms/step - loss: 0.3203 - accuracy: 0.8864 - val_loss: 0.8504 - val_accuracy: 0.7239\n",
      "Epoch 9/10\n",
      "491/491 [==============================] - 2s 4ms/step - loss: 0.2394 - accuracy: 0.9190 - val_loss: 1.0947 - val_accuracy: 0.6609\n",
      "Epoch 10/10\n",
      "491/491 [==============================] - 2s 4ms/step - loss: 0.1901 - accuracy: 0.9362 - val_loss: 1.0958 - val_accuracy: 0.7063\n"
     ]
    }
   ],
   "source": [
    "# your code here\n",
    "\n",
    "history = model.fit(train_images, train_labels, epochs=10, validation_split=0.2, verbose=1)"
   ]
  },
  {
   "cell_type": "markdown",
   "source": [
    "### Exercise 13: Plot training history"
   ],
   "metadata": {
    "id": "XJdEtcPHtQOM"
   }
  },
  {
   "cell_type": "markdown",
   "source": [
    "It is a good practice to plot our training curves. Typically we compare the evolution of loss function (accuracy) vs epochs.\n",
    "\n",
    "**Task:** Plot train and valid loss (and accuracy) evolution during training"
   ],
   "metadata": {
    "id": "fQwgqfERxPUW"
   }
  },
  {
   "cell_type": "code",
   "source": [
    "# your code here\n",
    "\n",
    "df_1 = pd.DataFrame({'loss_train': history.history['loss'],\n",
    "                     'loss_valid': history.history['val_loss']\n",
    "                    })\n",
    "\n",
    "df_2 = pd.DataFrame({'accuracy': history.history['accuracy'],\n",
    "                   'accuracy_valid': history.history['val_accuracy']\n",
    "                   })\n",
    "\n",
    "data = [df_1, df_2]\n",
    "y_labels = ['loss', 'accuracy']\n",
    "\n",
    "f, axs = plt.subplots(1, 2, sharex=True, figsize=(12,4))\n",
    "for ax, y_label, df in zip(axs, y_labels, data):\n",
    "    ax.plot(df, label=['train','valid'])\n",
    "    ax.grid(True)\n",
    "    ax.set_xlabel('epoch')\n",
    "    ax.set_ylabel(y_label)\n",
    "    ax.legend();\n",
    "\n"
   ],
   "metadata": {
    "id": "SUkk-7iPvvVh",
    "executionInfo": {
     "status": "ok",
     "timestamp": 1699199061878,
     "user_tz": -60,
     "elapsed": 550,
     "user": {
      "displayName": "Eduardo Sanchez Karhunen",
      "userId": "07705693878574082533"
     }
    },
    "colab": {
     "base_uri": "https://localhost:8080/",
     "height": 388
    },
    "outputId": "dab40875-250a-4943-cdbc-6455273ae8dc"
   },
   "execution_count": null,
   "outputs": [
    {
     "output_type": "display_data",
     "data": {
      "text/plain": [
       "<Figure size 1200x400 with 2 Axes>"
      ],
      "image/png": "[encoded data removed]"
     },
     "metadata": {}
    }
   ]
  },
  {
   "cell_type": "markdown",
   "source": [
    "### Exercise 14. Evaluate model accuracy"
   ],
   "metadata": {
    "id": "hu8QYYqrtzum"
   }
  },
  {
   "cell_type": "markdown",
   "metadata": {
    "id": "KbiNtUFmdPwD"
   },
   "source": [
    "**Task:** Once trained the model, obtain the accuracy of the model on the test dataset."
   ]
  },
  {
   "cell_type": "code",
   "source": [
    "# your code here\n",
    "\n",
    "res = model.evaluate(test_images,test_labels, verbose=0)\n",
    "print(f\"model accuracy: {np.round(res[1],2)}\")"
   ],
   "metadata": {
    "id": "n3sXN9VtvrKR",
    "executionInfo": {
     "status": "ok",
     "timestamp": 1699199062267,
     "user_tz": -60,
     "elapsed": 392,
     "user": {
      "displayName": "Eduardo Sanchez Karhunen",
      "userId": "07705693878574082533"
     }
    },
    "colab": {
     "base_uri": "https://localhost:8080/"
    },
    "outputId": "d4f178bf-1a53-437b-a690-2a40485217b5"
   },
   "execution_count": null,
   "outputs": [
    {
     "output_type": "stream",
     "name": "stdout",
     "text": [
      "model accuracy: 0.68\n"
     ]
    }
   ]
  },
  {
   "cell_type": "markdown",
   "source": [
    "### Exercise 8: Making predictions with the model"
   ],
   "metadata": {
    "id": "WBZVdHVBvTdJ"
   }
  },
  {
   "cell_type": "markdown",
   "source": [
    "Given an input image, the `predict` method returns the output of the last layer. This output is interpreted as the probability of the image to correspond to each of the classes.\n",
    "\n",
    "**Task:** Inject to the model 3 images from the test dataset to obtain their probabilities."
   ],
   "metadata": {
    "id": "jdpuyqs0wLG6"
   }
  },
  {
   "cell_type": "code",
   "source": [
    "# your code here\n",
    "\n",
    "X_new = test_images[:10]\n",
    "y_proba = model.predict(X_new)\n",
    "y_proba.round(2)"
   ],
   "metadata": {
    "id": "MSP-v89qxLge",
    "executionInfo": {
     "status": "ok",
     "timestamp": 1699199062677,
     "user_tz": -60,
     "elapsed": 412,
     "user": {
      "displayName": "Eduardo Sanchez Karhunen",
      "userId": "07705693878574082533"
     }
    },
    "colab": {
     "base_uri": "https://localhost:8080/"
    },
    "outputId": "2affc246-35fa-4712-9af8-4e6a1281eee2"
   },
   "execution_count": null,
   "outputs": [
    {
     "output_type": "stream",
     "name": "stdout",
     "text": [
      "1/1 [==============================] - 0s 96ms/step\n"
     ]
    },
    {
     "output_type": "execute_result",
     "data": {
      "text/plain": [
       "array([[0.66, 0.28, 0.05, 0.  , 0.  , 0.  , 0.  , 0.  , 0.  , 0.  ],\n",
       "       [0.  , 0.99, 0.  , 0.  , 0.  , 0.  , 0.  , 0.  , 0.  , 0.  ],\n",
       "       [0.51, 0.36, 0.01, 0.  , 0.  , 0.  , 0.  , 0.  , 0.11, 0.  ],\n",
       "       [0.  , 0.01, 0.99, 0.  , 0.  , 0.  , 0.  , 0.  , 0.  , 0.  ],\n",
       "       [0.3 , 0.09, 0.16, 0.  , 0.02, 0.  , 0.  , 0.  , 0.34, 0.08],\n",
       "       [0.38, 0.  , 0.34, 0.  , 0.  , 0.  , 0.  , 0.  , 0.25, 0.02],\n",
       "       [0.  , 0.  , 1.  , 0.  , 0.  , 0.  , 0.  , 0.  , 0.  , 0.  ],\n",
       "       [0.  , 0.  , 1.  , 0.  , 0.  , 0.  , 0.  , 0.  , 0.  , 0.  ],\n",
       "       [0.  , 0.26, 0.74, 0.  , 0.  , 0.  , 0.  , 0.  , 0.  , 0.  ],\n",
       "       [0.16, 0.46, 0.  , 0.  , 0.  , 0.  , 0.  , 0.34, 0.03, 0.  ]],\n",
       "      dtype=float32)"
      ]
     },
     "metadata": {},
     "execution_count": 19
    }
   ]
  },
  {
   "cell_type": "markdown",
   "metadata": {
    "id": "WYcLKXWdjjK0"
   },
   "source": [
    "**Task:** Using `np.argmax` and the probabilities, decide which is the class of each image"
   ]
  },
  {
   "cell_type": "code",
   "source": [
    "# your code here\n",
    "\n",
    "y_predicted = np.argmax(y_proba.round(2), axis=1)\n",
    "y_predicted"
   ],
   "metadata": {
    "id": "EDMjBie4x1jr",
    "executionInfo": {
     "status": "ok",
     "timestamp": 1699199082762,
     "user_tz": -60,
     "elapsed": 434,
     "user": {
      "displayName": "Eduardo Sanchez Karhunen",
      "userId": "07705693878574082533"
     }
    },
    "colab": {
     "base_uri": "https://localhost:8080/"
    },
    "outputId": "f8c46a63-bce9-4f26-8727-7a1781cb0dbd"
   },
   "execution_count": null,
   "outputs": [
    {
     "output_type": "execute_result",
     "data": {
      "text/plain": [
       "array([0, 1, 0, 2, 8, 0, 2, 2, 2, 1])"
      ]
     },
     "metadata": {},
     "execution_count": 22
    }
   ]
  },
  {
   "cell_type": "markdown",
   "metadata": {
    "id": "MwYtZX7WlRJr"
   },
   "source": [
    "**Task:** Finally, compare the predicted classes with the real ones. There should be approx. 2/3 of correct predictions."
   ]
  },
  {
   "cell_type": "code",
   "source": [
    "# your code here\n",
    "\n",
    "test_labels[:10]"
   ],
   "metadata": {
    "id": "0UvldzKRyp2f",
    "executionInfo": {
     "status": "ok",
     "timestamp": 1699199084426,
     "user_tz": -60,
     "elapsed": 400,
     "user": {
      "displayName": "Eduardo Sanchez Karhunen",
      "userId": "07705693878574082533"
     }
    },
    "colab": {
     "base_uri": "https://localhost:8080/"
    },
    "outputId": "33ab9bb2-e619-4abf-e556-2ff2c0ae63c5"
   },
   "execution_count": null,
   "outputs": [
    {
     "output_type": "execute_result",
     "data": {
      "text/plain": [
       "array([0, 1, 1, 1, 1, 2, 2, 2, 2, 7], dtype=uint8)"
      ]
     },
     "metadata": {},
     "execution_count": 23
    }
   ]
  },
  {
   "cell_type": "code",
   "source": [],
   "metadata": {
    "id": "KkDq62QLysp1"
   },
   "execution_count": null,
   "outputs": []
  }
 ],
 "metadata": {
  "colab": {
   "provenance": [],
   "machine_shape": "hm",
   "gpuType": "V100"
  },
  "kernelspec": {
   "display_name": "Python 3",
   "name": "python3"
  },
  "language_info": {
   "codemirror_mode": {
    "name": "ipython",
    "version": 3
   },
   "file_extension": ".py",
   "mimetype": "text/x-python",
   "name": "python",
   "nbconvert_exporter": "python",
   "pygments_lexer": "ipython3",
   "version": "3.10.9"
  },
  "accelerator": "GPU"
 },
 "nbformat": 4,
 "nbformat_minor": 0
}
