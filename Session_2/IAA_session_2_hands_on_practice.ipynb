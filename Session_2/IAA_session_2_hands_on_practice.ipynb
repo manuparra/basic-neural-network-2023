{
 "cells": [
  {
   "cell_type": "markdown",
   "metadata": {
    "id": "ZDitZsQALa1H"
   },
   "source": [
    "# HANDS-ON PRACTICE SESSION 2: CONVOLUTIONAL NEURAL NETWORKS FUNDAMENTALS"
   ]
  },
  {
   "cell_type": "markdown",
   "metadata": {
    "id": "Wi84rOu4si0V"
   },
   "source": [
    "SO Basics of Neural Networks 2023 school at the IAA-CSIC. Nov 2023.  \n",
    "Eduardo Sánchez Karhunen  (fesanchez@us.es)  \n",
    "University of Seville. Spain.  Dept. of CS and AI"
   ]
  },
  {
   "cell_type": "markdown",
   "metadata": {
    "id": "pi-LyvK2V070"
   },
   "source": [
    "### Introduction"
   ]
  },
  {
   "cell_type": "markdown",
   "metadata": {
    "id": "1EQPOjdLUGZC"
   },
   "source": [
    "In this second hands-on practice we are going to tackle again the the Galaxy10 classification problem. As a reminder, the Galaxy10 dataset is a collection of 69x69 colored images with 10 mutually exclusive classes. For educational purposes, we will design a CNN (Convolutional Neural Network) form scratch."
   ]
  },
  {
   "cell_type": "markdown",
   "metadata": {
    "id": "tLgenWShFb0N"
   },
   "source": [
    "### 1. Loading libraries"
   ]
  },
  {
   "cell_type": "code",
   "execution_count": null,
   "metadata": {
    "id": "x3FXwlSEgKYa"
   },
   "outputs": [],
   "source": [
    "import numpy as np\n",
    "import h5py\n",
    "import tensorflow as tf\n",
    "import pandas as pd\n",
    "import matplotlib.pyplot as plt\n",
    "# import matplotlib.image as mpimg"
   ]
  },
  {
   "cell_type": "code",
   "source": [
    "# only execute this lines if the following error appears\n",
    "# OMP: Error #15: Initializing libiomp5md.dll, but found libiomp5md.dll already initialized.\n",
    "\n",
    "# import os\n",
    "# os.environ['KMP_DUPLICATE_LIB_OK']='True'"
   ],
   "metadata": {
    "id": "6-Bbu7KcLUPe"
   },
   "execution_count": null,
   "outputs": []
  },
  {
   "cell_type": "markdown",
   "metadata": {
    "id": "kVhPclDLgYUu"
   },
   "source": [
    "### Exercise 0: Dataset preparation"
   ]
  },
  {
   "cell_type": "markdown",
   "metadata": {
    "id": "iCjX9i4egb-q"
   },
   "source": [
    "As in the previous session, download the dataset to your local disk."
   ]
  },
  {
   "cell_type": "code",
   "execution_count": null,
   "metadata": {
    "colab": {
     "base_uri": "https://localhost:8080/"
    },
    "executionInfo": {
     "elapsed": 4701,
     "status": "ok",
     "timestamp": 1699199028868,
     "user": {
      "displayName": "Eduardo Sanchez Karhunen",
      "userId": "07705693878574082533"
     },
     "user_tz": -60
    },
    "id": "A6x2TeCbjZ95",
    "outputId": "555eb3d4-e6a9-4154-e499-1780a060ef72"
   },
   "outputs": [
    {
     "output_type": "stream",
     "name": "stdout",
     "text": [
      "--2023-11-05 15:43:44--  http://www.astro.utoronto.ca/~bovy/Galaxy10/Galaxy10.h5\n",
      "Resolving www.astro.utoronto.ca (www.astro.utoronto.ca)... 128.100.89.92\n",
      "Connecting to www.astro.utoronto.ca (www.astro.utoronto.ca)|128.100.89.92|:80... connected.\n",
      "HTTP request sent, awaiting response... 200 OK\n",
      "Length: 210234548 (200M)\n",
      "Saving to: ‘Galaxy10.h5.8’\n",
      "\n",
      "Galaxy10.h5.8       100%[===================>] 200.50M  48.3MB/s    in 4.6s    \n",
      "\n",
      "2023-11-05 15:43:48 (43.8 MB/s) - ‘Galaxy10.h5.8’ saved [210234548/210234548]\n"
     ]
    }
   ],
   "source": [
    "# LINUX\n",
    "!wget http://www.astro.utoronto.ca/~bovy/Galaxy10/Galaxy10.h5\n",
    "\n",
    "# WINDOWS\n",
    "# !curl \"http://www.astro.utoronto.ca/~bovy/Galaxy10/Galaxy10.h5\" --output Galaxy10.h5"
   ]
  },
  {
   "cell_type": "markdown",
   "metadata": {
    "id": "r9HHkcMxjfAN"
   },
   "source": [
    "Next, we need to convert the downloaded h5 files into two numpy arrays containing images and labels."
   ]
  },
  {
   "cell_type": "code",
   "execution_count": null,
   "metadata": {
    "id": "NjrXTGkNgWCt"
   },
   "outputs": [],
   "source": [
    "hf = h5py.File('Galaxy10.h5', 'r')\n",
    "labels, images = hf.get('ans')[()], hf.get('images')[()]"
   ]
  },
  {
   "cell_type": "markdown",
   "metadata": {
    "id": "P8fXWNW0m09i"
   },
   "source": [
    "Check the shape of the dataset: number of images and its shape."
   ]
  },
  {
   "cell_type": "code",
   "execution_count": null,
   "metadata": {
    "colab": {
     "base_uri": "https://localhost:8080/"
    },
    "executionInfo": {
     "elapsed": 13,
     "status": "ok",
     "timestamp": 1699199033310,
     "user": {
      "displayName": "Eduardo Sanchez Karhunen",
      "userId": "07705693878574082533"
     },
     "user_tz": -60
    },
    "id": "WDKwAL3KmboB",
    "outputId": "adfdc2a8-0890-48ee-eed8-db946fe26da4"
   },
   "outputs": [
    {
     "output_type": "stream",
     "name": "stdout",
     "text": [
      "number of images: 21785\n",
      "shape of each image: [69, 69]\n",
      "number of channels: 3\n"
     ]
    }
   ],
   "source": [
    "n_images, *shape, n_channels = images.shape\n",
    "print(f\"number of images: {n_images}\")\n",
    "print(f\"shape of each image: {shape}\")\n",
    "print(f\"number of channels: {n_channels}\")"
   ]
  },
  {
   "cell_type": "markdown",
   "metadata": {
    "id": "9X3nN-ChoqoE"
   },
   "source": [
    "As we have seen in the first session, MLP networks can not handle colored (multichannel) images and we converted them into grayscale. On the contrary, CNN were designed to handle images in a very natural way."
   ]
  },
  {
   "cell_type": "markdown",
   "metadata": {
    "id": "pXIX7lGyu2Nc"
   },
   "source": [
    "### Exercise 1. Create train and test datasets"
   ]
  },
  {
   "cell_type": "markdown",
   "metadata": {
    "id": "97_KZhmhvaiU"
   },
   "source": [
    "Divide the dataset into two new datasets for:\n",
    "* training: 90%\n",
    "* test: 10%  \n",
    "\n",
    "Use the `train_test_split` command from scikit_learn. Do not worry for the validation dataset. We will create it on-the-fly during the model training process.\n",
    "\n",
    "More info in: https://scikit-learn.org/stable/modules/generated/sklearn.model_selection.train_test_split.html\n",
    "\n",
    "**Task:** Create the following arrays: `train_images`, `train_labels`, `test_images` and `test_labels`."
   ]
  },
  {
   "cell_type": "code",
   "source": [
    "# your code here\n",
    "\n",
    "\n"
   ],
   "metadata": {
    "id": "SqRFDFSjsG78"
   },
   "execution_count": null,
   "outputs": []
  },
  {
   "cell_type": "markdown",
   "metadata": {
    "id": "7tyB8qj8zFjl"
   },
   "source": [
    "### Exercise 2. Normalize image pixel values"
   ]
  },
  {
   "cell_type": "markdown",
   "metadata": {
    "id": "Ev8LfFKN-VRP"
   },
   "source": [
    "Again, we must apply a very simple normalization preprocessing step. e.g. dividing all pixel values by their maximum value: 255.\n",
    "\n",
    "**Task:** Divide train and test images by 255.0."
   ]
  },
  {
   "cell_type": "code",
   "source": [
    "# your code here\n",
    "\n",
    "\n"
   ],
   "metadata": {
    "id": "_gcTjnbtsc45"
   },
   "execution_count": null,
   "outputs": []
  },
  {
   "cell_type": "markdown",
   "metadata": {
    "id": "GpvRWsl7_BTX"
   },
   "source": [
    "### Exercise 3. Building the CNN model"
   ]
  },
  {
   "cell_type": "markdown",
   "metadata": {
    "id": "mSsim3bj_QLA"
   },
   "source": [
    "Our next step is to design a CNN to solve the problem. Lets consider a simple 1 stage architecture. Here, one stage means that our implementation contains an single pair of convolutional + pool layers.\n",
    "\n",
    "* First, we will define the preprocessing stage: 1 conv + 1 pooling layer.\n",
    "\n",
    "* Secondly, a transition between the preprocessing stage and the final stage is needed: 1 flattening layer.\n",
    "\n",
    "* Finally, the decision stage will be defined: 1 dense layer + 1 output_layer.\n",
    "\n",
    "\n",
    "<br>\n",
    "\n",
    "![picture](https://drive.google.com/uc?id=1k8aHjwHlRP3wgU-IAtpKbcvwqyvvyUwY)\n"
   ]
  },
  {
   "cell_type": "markdown",
   "metadata": {
    "id": "PCFr6e_jDb8D"
   },
   "source": [
    "### Exercise 4. First convolutional layer creation."
   ]
  },
  {
   "cell_type": "markdown",
   "metadata": {
    "id": "x3xbAOQlDgQn"
   },
   "source": [
    "Remember the first layer in a NN always has to be informed of the shape of the input samples.\n",
    "\n",
    "As indicated in the image above, our layer parameters are:\n",
    "* 12 kernels (3x3)\n",
    "* Stride = 1. The kernel will be shifted pixel by pixel along the image.\n",
    "* No-padding. In Tensorflow, this is indicated as padding = `valid`.\n",
    "* There are no indications about the activation function. Hence, we can consider a ReLU.\n",
    "\n",
    "More details in https://www.tensorflow.org/api_docs/python/tf/keras/layers/Conv2D.\n",
    "\n",
    "**Task:** Create the convolutional layer for our model"
   ]
  },
  {
   "cell_type": "code",
   "source": [
    "# your code here\n",
    "\n",
    "\n"
   ],
   "metadata": {
    "id": "Jr1NCfO_vZ3A"
   },
   "execution_count": null,
   "outputs": []
  },
  {
   "cell_type": "markdown",
   "source": [
    "### Exercise 5. Pooling layer creation"
   ],
   "metadata": {
    "id": "7yFoSaEewj_H"
   }
  },
  {
   "cell_type": "markdown",
   "source": [
    "Once obtained the previous layer has obtained the features, a subsampling is perform. In this case, each 2x2 pixel group will be resumed into a single value (the maximum of the group).\n",
    "\n",
    "Hence, use the following parameters:\n",
    "* pool_size = 2x2\n",
    "* stride = 2\n",
    "* There is no activation funtion associated to pooling layers.\n",
    "\n",
    "More info in: https://www.tensorflow.org/api_docs/python/tf/keras/layers/MaxPooling2D\n",
    "\n",
    "**Task:** Create the pooling layer for our model"
   ],
   "metadata": {
    "id": "sxZTQbKmw6Qy"
   }
  },
  {
   "cell_type": "code",
   "source": [
    "# your code here\n",
    "\n",
    "\n"
   ],
   "metadata": {
    "id": "bAMchcc1zWMv"
   },
   "execution_count": null,
   "outputs": []
  },
  {
   "cell_type": "markdown",
   "source": [
    "### Exercise 6. Transition between Convs and decision stage"
   ],
   "metadata": {
    "id": "d6fqiSX3Sxwz"
   }
  },
  {
   "cell_type": "markdown",
   "source": [
    "**Task:** Create the flattening layer"
   ],
   "metadata": {
    "id": "eNxcEpGzS-nD"
   }
  },
  {
   "cell_type": "code",
   "source": [
    "# your code here\n",
    "\n",
    "\n"
   ],
   "metadata": {
    "id": "BGYrbqD1Sw3-"
   },
   "execution_count": null,
   "outputs": []
  },
  {
   "cell_type": "markdown",
   "metadata": {
    "id": "KildGm4hGFSm"
   },
   "source": [
    "### Exercise 7. Decision stage: hidden layer creation."
   ]
  },
  {
   "cell_type": "markdown",
   "metadata": {
    "id": "H43Odrt0GFgF"
   },
   "source": [
    "Once the flattened layer has completed its operation, the image has been transformed into a 1D-array.\n",
    "\n",
    "To determine the number of neurons of the following dense layers we need to know the size of this 1D-array.\n",
    "\n",
    "* input image = (69, 69, 3)\n",
    "* after conv = (67, 67, 12)\n",
    "* after pool = (33, 33, 12)\n",
    "* flattening = 33 x 33 x 12 = 13.068\n",
    "\n",
    "After that, a couple of dense layer are defined to reduce the dimensionality of the information from 13.068 to 10.\n",
    "\n",
    "Remember:\n",
    "* Follow the idea of a reduction of the dimensionality step by step.\n",
    "* Hidden layers activation function is always a ReLU family one.\n",
    "\n",
    "**Task:** Create two dense layers with 500 and 100 neurons, respectively."
   ]
  },
  {
   "cell_type": "code",
   "execution_count": null,
   "metadata": {
    "id": "7zRjHMitHDWv"
   },
   "outputs": [],
   "source": [
    "# your code here\n",
    "\n",
    "\n"
   ]
  },
  {
   "cell_type": "markdown",
   "metadata": {
    "id": "c8kIS3u2IE6U"
   },
   "source": [
    "### Exercise 8. Create the output layer."
   ]
  },
  {
   "cell_type": "markdown",
   "metadata": {
    "id": "71j6pNqpIFIm"
   },
   "source": [
    "Do not forget:\n",
    "* The number of neurons of this layer is the number of classes.\n",
    "* Its activation function is sigmoid (if 2 classes) or softmax (if >2 classes)\n",
    "\n",
    "**Task:** Create the proper output layer"
   ]
  },
  {
   "cell_type": "code",
   "execution_count": null,
   "metadata": {
    "id": "TLucNPGeIvEK"
   },
   "outputs": [],
   "source": [
    "# your code here\n",
    "\n",
    "\n"
   ]
  },
  {
   "cell_type": "markdown",
   "metadata": {
    "id": "4nNvqt3JJDrM"
   },
   "source": [
    "### Exercise 9. Join all layers in a CNN"
   ]
  },
  {
   "cell_type": "markdown",
   "metadata": {
    "id": "o0Ckn1JFJDzi"
   },
   "source": [
    "Remember: the first step is to create a `sequential` structure to be filled with the previously created layers.\n",
    "\n",
    "More info in: https://www.tensorflow.org/api_docs/python/tf/keras/Sequential\n",
    "\n",
    "**Task:** Collect all the previous layers in a model"
   ]
  },
  {
   "cell_type": "code",
   "execution_count": null,
   "metadata": {
    "id": "rOi42HQEJ2Yt"
   },
   "outputs": [],
   "source": [
    "# your code here\n",
    "\n",
    "\n"
   ]
  },
  {
   "cell_type": "markdown",
   "source": [
    "### Exercise 10. Model inspection"
   ],
   "metadata": {
    "id": "pU4zT3O0sfGu"
   }
  },
  {
   "cell_type": "markdown",
   "source": [
    "Show a summary of the model, with info of each layer:\n",
    "* name and type of layer\n",
    "* output shape\n",
    "* number of parameters\n",
    "\n",
    "This info is useful to check if the model has been built properly and, very important, to be conscious of the huge number of parameters to train.\n",
    "\n",
    "You should obtain aprox 6,5M of parameters. If we would tackle this problem with MLP we had needed aprox 69 x 69 x3 x 1000\n",
    "\n",
    "**Task:** show a summary of the network"
   ],
   "metadata": {
    "id": "pHRg_0oiv5Jv"
   }
  },
  {
   "cell_type": "code",
   "source": [
    "# your code here\n",
    "\n",
    "\n"
   ],
   "metadata": {
    "id": "dt_lQeyssnFo"
   },
   "execution_count": null,
   "outputs": []
  },
  {
   "cell_type": "markdown",
   "metadata": {
    "id": "4ob6iG2AKnAg"
   },
   "source": [
    "### Exercise 11. Assign loss function and optimizer"
   ]
  },
  {
   "cell_type": "markdown",
   "metadata": {
    "id": "rcO61kgUKnMw"
   },
   "source": [
    "Before training a model some details must be set:\n",
    "* A loss function to be optimized. In classification problems, cross_entropy is considered:\n",
    "    - 2 classes: binary cross entropy\n",
    "    - +2 classes: categorical cross entropy\n",
    "\n",
    "If the class label is not codified using one_hot, we use sparse_categorical_crossentropy.\n",
    "\n",
    "More info in: https://www.tensorflow.org/api_docs/python/tf/keras/losses/SparseCategoricalCrossentropy\n",
    "\n",
    "* An optimization \"technique\" to reduce the loss funtion up to a local minimum Typically, an adam optimizer is considered for training DL models.\n",
    "\n",
    "More info in: https://www.tensorflow.org/api_docs/python/tf/keras/optimizers/Adam\n",
    "\n",
    "**Task:** Indicate to the network the selected loss function and optimizer\n"
   ]
  },
  {
   "cell_type": "code",
   "execution_count": null,
   "metadata": {
    "id": "foO3WkdvLBpP"
   },
   "outputs": [],
   "source": [
    "# your code here\n",
    "\n",
    "\n"
   ]
  },
  {
   "cell_type": "markdown",
   "metadata": {
    "id": "GZ-rDDyxN3q6"
   },
   "source": [
    "### Exercise 12. Network training"
   ]
  },
  {
   "cell_type": "markdown",
   "metadata": {
    "id": "-mPWZtqjN33d"
   },
   "source": [
    "At this point, two final decision must be taken:\n",
    "* * How many epochs do we need to used? In this concrete problem, beyond 7-10 epochs there is no improvement.\n",
    "* A validation dataset must be provided to the model. Typically 20% of the training dataset is more than enough for our purposes. Use the parameter `validation_split` to indicate this value to the model training.\n",
    "\n",
    "You should obtain an accuracy on the validation dataset around 71-73%\n",
    "\n",
    "**Task:** Train the model with the selected number of epochs and validation_split parameter."
   ]
  },
  {
   "cell_type": "code",
   "execution_count": null,
   "metadata": {
    "id": "DKsg-lj4OESP"
   },
   "outputs": [],
   "source": [
    "# your code here\n",
    "\n",
    "\n"
   ]
  },
  {
   "cell_type": "markdown",
   "source": [
    "### Exercise 13: Plot training history"
   ],
   "metadata": {
    "id": "XJdEtcPHtQOM"
   }
  },
  {
   "cell_type": "markdown",
   "source": [
    "It is a good practice to plot our training curves. Typically we compare the evolution of loss function (accuracy) vs epochs.\n",
    "\n",
    "**Task:** Plot train and valid loss (and accuracy) evolution during training"
   ],
   "metadata": {
    "id": "fQwgqfERxPUW"
   }
  },
  {
   "cell_type": "code",
   "source": [
    "# your code here\n",
    "\n",
    "\n"
   ],
   "metadata": {
    "id": "SUkk-7iPvvVh"
   },
   "execution_count": null,
   "outputs": []
  },
  {
   "cell_type": "markdown",
   "source": [
    "### Exercise 14. Evaluate model accuracy"
   ],
   "metadata": {
    "id": "hu8QYYqrtzum"
   }
  },
  {
   "cell_type": "markdown",
   "metadata": {
    "id": "KbiNtUFmdPwD"
   },
   "source": [
    "**Task:** Once trained the model, obtain the accuracy of the model on the test dataset."
   ]
  },
  {
   "cell_type": "code",
   "source": [
    "# your code here\n",
    "\n",
    "\n"
   ],
   "metadata": {
    "id": "n3sXN9VtvrKR"
   },
   "execution_count": null,
   "outputs": []
  },
  {
   "cell_type": "markdown",
   "source": [
    "### Exercise 8: Making predictions with the model"
   ],
   "metadata": {
    "id": "WBZVdHVBvTdJ"
   }
  },
  {
   "cell_type": "markdown",
   "source": [
    "Given an input image, the `predict` method returns the output of the last layer. This output is interpreted as the probability of the image to correspond to each of the classes.\n",
    "\n",
    "**Task:** Inject to the model 3 images from the test dataset to obtain their probabilities."
   ],
   "metadata": {
    "id": "jdpuyqs0wLG6"
   }
  },
  {
   "cell_type": "code",
   "source": [
    "# your code here\n",
    "\n",
    "\n"
   ],
   "metadata": {
    "id": "MSP-v89qxLge"
   },
   "execution_count": null,
   "outputs": []
  },
  {
   "cell_type": "markdown",
   "metadata": {
    "id": "WYcLKXWdjjK0"
   },
   "source": [
    "**Task:** Using `np.argmax` and the probabilities, decide which is the class of each image"
   ]
  },
  {
   "cell_type": "code",
   "source": [
    "# your code here\n",
    "\n",
    "\n"
   ],
   "metadata": {
    "id": "EDMjBie4x1jr"
   },
   "execution_count": null,
   "outputs": []
  },
  {
   "cell_type": "markdown",
   "metadata": {
    "id": "MwYtZX7WlRJr"
   },
   "source": [
    "**Task:** Finally, compare the predicted classes with the real ones. There should be approx. 2/3 of correct predictions."
   ]
  },
  {
   "cell_type": "code",
   "source": [
    "# your code here\n",
    "\n",
    "\n"
   ],
   "metadata": {
    "id": "0UvldzKRyp2f"
   },
   "execution_count": null,
   "outputs": []
  },
  {
   "cell_type": "code",
   "source": [],
   "metadata": {
    "id": "KkDq62QLysp1"
   },
   "execution_count": null,
   "outputs": []
  }
 ],
 "metadata": {
  "colab": {
   "provenance": [],
   "machine_shape": "hm",
   "gpuType": "V100"
  },
  "kernelspec": {
   "display_name": "Python 3",
   "name": "python3"
  },
  "language_info": {
   "codemirror_mode": {
    "name": "ipython",
    "version": 3
   },
   "file_extension": ".py",
   "mimetype": "text/x-python",
   "name": "python",
   "nbconvert_exporter": "python",
   "pygments_lexer": "ipython3",
   "version": "3.10.9"
  },
  "accelerator": "GPU"
 },
 "nbformat": 4,
 "nbformat_minor": 0
}
